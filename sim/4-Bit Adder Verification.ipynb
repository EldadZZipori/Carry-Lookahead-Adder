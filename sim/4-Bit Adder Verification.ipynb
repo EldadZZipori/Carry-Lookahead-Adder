{
 "cells": [
  {
   "cell_type": "code",
   "execution_count": 2,
   "id": "8e9a49e7-03bb-4826-9be6-90d0d83419f6",
   "metadata": {},
   "outputs": [],
   "source": [
    "import numpy as np\n",
    "import pandas as pd"
   ]
  },
  {
   "cell_type": "code",
   "execution_count": 4,
   "id": "2afecf30-92a6-4065-809a-8ec1de5d3d84",
   "metadata": {},
   "outputs": [
    {
     "name": "stdout",
     "output_type": "stream",
     "text": [
      "Validating 4-Bit Adder Logic and Printing States...\n",
      "Time         Carry_in   a               b               Sum (Actual)    Carry_out (Actual)   Sum (Expected)       Carry_out (Expected)     \n",
      "--------------------------------------------------------------------------------------------------------------------------\n",
      "2.50e-09     0          [0, 0, 0, 0]    [0, 0, 0, 0]    [0, 0, 0, 0]    0                    [0, 0, 0, 0]         0                        \n",
      "7.50e-09     0          [0, 0, 0, 0]    [0, 0, 0, 0]    [0, 0, 0, 0]    0                    [0, 0, 0, 0]         0                        \n",
      "1.25e-08     0          [0, 0, 0, 0]    [0, 0, 0, 0]    [0, 0, 0, 0]    0                    [0, 0, 0, 0]         0                        \n",
      "1.75e-08     0          [1, 0, 0, 0]    [0, 1, 0, 1]    [1, 1, 0, 1]    0                    [1, 1, 0, 1]         0                        \n",
      "2.25e-08     1          [1, 1, 1, 1]    [0, 1, 1, 1]    [0, 1, 1, 1]    1                    [0, 1, 1, 1]         1                        \n",
      "2.75e-08     1          [1, 1, 1, 1]    [1, 0, 1, 0]    [1, 0, 1, 0]    1                    [1, 0, 1, 0]         1                        \n",
      "3.25e-08     0          [0, 0, 0, 0]    [1, 0, 0, 0]    [1, 0, 0, 0]    0                    [1, 0, 0, 0]         0                        \n",
      "3.75e-08     0          [0, 0, 0, 0]    [0, 1, 0, 1]    [0, 1, 0, 1]    0                    [0, 1, 0, 1]         0                        \n",
      "4.25e-08     0          [1, 1, 1, 0]    [0, 1, 0, 1]    [1, 0, 0, 0]    1                    [1, 0, 0, 0]         1                        \n",
      "4.75e-08     1          [1, 1, 1, 1]    [0, 1, 1, 1]    [0, 1, 1, 1]    1                    [0, 1, 1, 1]         1                        \n",
      "5.25e-08     1          [1, 0, 1, 1]    [1, 0, 1, 0]    [1, 1, 0, 0]    1                    [1, 1, 0, 0]         1                        \n",
      "5.75e-08     0          [0, 0, 0, 0]    [1, 0, 0, 0]    [1, 0, 0, 0]    0                    [1, 0, 0, 0]         0                        \n",
      "6.25e-08     0          [0, 0, 0, 0]    [1, 0, 0, 0]    [1, 0, 0, 0]    0                    [1, 0, 0, 0]         0                        \n",
      "6.75e-08     1          [1, 1, 1, 1]    [0, 1, 1, 1]    [0, 1, 1, 1]    1                    [0, 1, 1, 1]         1                        \n",
      "7.25e-08     1          [1, 1, 1, 1]    [0, 1, 1, 1]    [0, 1, 1, 1]    1                    [0, 1, 1, 1]         1                        \n",
      "7.75e-08     1          [1, 1, 1, 1]    [0, 1, 1, 1]    [0, 1, 1, 1]    1                    [0, 1, 1, 1]         1                        \n",
      "4-bit adder logic verified successfully. No issues detected.\n"
     ]
    }
   ],
   "source": [
    "def validate_4bit_adder(adder_data, start_time=2.5e-9, interval=5e-9):\n",
    "    print(f\"{'Time':<12} {'Carry_in':<10} {'a':<15} {'b':<15} {'Sum (Actual)':<15} {'Carry_out (Actual)':<20} {'Sum (Expected)':<20} {'Carry_out (Expected)':<25}\")\n",
    "    print(\"-\" * 122)\n",
    "    issues = []\n",
    "    eval_times = np.arange(start_time, adder_data['/c0 X'].max(), interval)\n",
    "\n",
    "    for t in eval_times:\n",
    "        prior_row = adder_data[adder_data['/c0 X'] <= t].iloc[-1]\n",
    "        next_row = adder_data[adder_data['/c0 X'] > t].iloc[0]\n",
    "\n",
    "        interpolated_vals = {}\n",
    "        for col in adder_data.columns:\n",
    "            if ' X' not in col:  # Skip the time-related columns\n",
    "                t1, t2 = prior_row['/c0 X'], next_row['/c0 X']\n",
    "                v1, v2 = prior_row[col], next_row[col]\n",
    "                interpolated_vals[col] = v1 + (v2 - v1) * (t - t1) / (t2 - t1)\n",
    "\n",
    "        carry_in = int(interpolated_vals['/c0 Y'] > 0.5)\n",
    "        a_signals = [int(interpolated_vals[f'/a{i} Y'] > 0.5) for i in range(4)]\n",
    "        b_signals = [int(interpolated_vals[f'/b{i} Y'] > 0.5) for i in range(4)]\n",
    "        sum_signals = [int(interpolated_vals[f'/s{i} Y'] > 0.5) for i in range(4)]\n",
    "        carry_out = int(interpolated_vals['/c4 Y'] > 0.5)\n",
    "\n",
    "        generate = [a_signals[i] & b_signals[i] for i in range(4)]\n",
    "        propagate = [a_signals[i] ^ b_signals[i] for i in range(4)]\n",
    "        carries = [carry_in]  # Carry chain starting with carry-in\n",
    "\n",
    "        for i in range(4):\n",
    "            carries.append(generate[i] | (propagate[i] & carries[i]))\n",
    "\n",
    "        expected_sums = [propagate[i] ^ carries[i] for i in range(4)]\n",
    "        expected_carry_out = carries[4]\n",
    "\n",
    "        print(f\"{t:<12.2e} {carry_in:<10} {str(a_signals):<15} {str(b_signals):<15} {str(sum_signals):<15} {carry_out:<20} {str(expected_sums):<20} {expected_carry_out:<25}\")\n",
    "\n",
    "        for i in range(4):\n",
    "            carries.append(generate[i] | (propagate[i] & carries[i]))\n",
    "\n",
    "        for i in range(4):\n",
    "            expected_sum = propagate[i] ^ carries[i]\n",
    "            if sum_signals[i] != expected_sum:\n",
    "                issues.append((t, f'/s{i}', sum_signals[i], expected_sum))\n",
    "        if carries[4] != carry_out:\n",
    "            issues.append((t, '/c4', carry_out, carries[4]))\n",
    "\n",
    "    return issues\n",
    "\n",
    "print(\"Validating 4-Bit Adder Logic and Printing States...\")\n",
    "try:\n",
    "    adder_data = pd.read_csv(\"Simulations Data/4bit_addr.csv\")\n",
    "    errors = validate_4bit_adder(adder_data)\n",
    "\n",
    "    if errors:\n",
    "        print(\"Issues detected in 4-bit adder logic:\")\n",
    "        for error in errors:\n",
    "            print(f\"Time: {error[0]:.2e}, Signal: {error[1]}, Actual: {error[2]}, Expected: {error[3]}\")\n",
    "    else:\n",
    "        print(\"4-bit adder logic verified successfully. No issues detected.\")\n",
    "except FileNotFoundError:\n",
    "    print(\"Error: File 'flookahead_adder.csv' not found. Please check the file's location.\")\n"
   ]
  }
 ],
 "metadata": {
  "kernelspec": {
   "display_name": "Python 3 (ipykernel)",
   "language": "python",
   "name": "python3"
  },
  "language_info": {
   "codemirror_mode": {
    "name": "ipython",
    "version": 3
   },
   "file_extension": ".py",
   "mimetype": "text/x-python",
   "name": "python",
   "nbconvert_exporter": "python",
   "pygments_lexer": "ipython3",
   "version": "3.11.9"
  }
 },
 "nbformat": 4,
 "nbformat_minor": 5
}
