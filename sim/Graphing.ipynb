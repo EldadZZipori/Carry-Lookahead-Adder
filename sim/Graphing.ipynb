{
 "cells": [
  {
   "cell_type": "code",
   "execution_count": 1,
   "id": "c7de93d9-e071-4472-a129-d47840b9cdcd",
   "metadata": {},
   "outputs": [],
   "source": [
    "import sys\n",
    "import os\n",
    "import glob\n",
    "import pandas as pd\n",
    "import matplotlib.pyplot as plt\n",
    "import numpy as np"
   ]
  },
  {
   "cell_type": "code",
   "execution_count": 3,
   "id": "6c315683-2ec2-48ce-a744-ba8a708f4d6c",
   "metadata": {},
   "outputs": [],
   "source": [
    "def visualize_csv_signals(csv_file):\n",
    "    try:\n",
    "        data = pd.read_csv(csv_file)\n",
    "    except FileNotFoundError:\n",
    "        print(f\"File not found: '{csv_file}'\")\n",
    "        return\n",
    "    except pd.errors.EmptyDataError:\n",
    "        print(f\"The file '{csv_file}' is empty.\")\n",
    "        return\n",
    "    except pd.errors.ParserError:\n",
    "        print(f\"Could not parse '{csv_file}'.\")\n",
    "        return\n",
    "\n",
    "    column_headers = data.columns\n",
    "    signals = sorted({header[:-2] for header in column_headers if header.endswith((' X', ' Y'))})\n",
    "\n",
    "    signal_count = len(signals)\n",
    "    fig, axs = plt.subplots(\n",
    "        nrows=signal_count,\n",
    "        ncols=1,\n",
    "        figsize=(14, 4 * signal_count),\n",
    "        sharex=True,\n",
    "        constrained_layout=True,\n",
    "    )\n",
    "\n",
    "    axs = [axs] if signal_count == 1 else axs\n",
    "\n",
    "    colors = plt.cm.viridis(np.linspace(0, 1, signal_count))\n",
    "\n",
    "    for idx, (ax, signal) in enumerate(zip(axs, signals)):\n",
    "        x_key = f\"{signal} X\"\n",
    "        y_key = f\"{signal} Y\"\n",
    "\n",
    "        if x_key in data.columns and y_key in data.columns:\n",
    "            x_data = data[x_key]\n",
    "            y_data = data[y_key]\n",
    "            ax.plot(\n",
    "                x_data,\n",
    "                y_data,\n",
    "                label=signal.replace('_', ' ').capitalize(),\n",
    "                color=colors[idx],\n",
    "                linewidth=2.0,\n",
    "                linestyle='--',  \n",
    "            )\n",
    "            ax.set_title(f\"Signal: {signal.replace('_', ' ').capitalize()}\", fontsize=12, pad=10)\n",
    "            ax.set_ylabel('Amplitude', fontsize=10)\n",
    "            ax.legend(loc='best', frameon=False)\n",
    "            ax.grid(visible=True, linestyle=':', linewidth=0.8)\n",
    "        else:\n",
    "            print(f\"Warning: Missing data for signal '{signal}'.\")\n",
    "\n",
    "    axs[-1].set_xlabel('Time (s)', fontsize=10)\n",
    "\n",
    "    plt.suptitle(f\"Signal Visualization - {os.path.basename(csv_file)}\", fontsize=18, y=0.98)\n",
    "\n",
    "    output_file = os.path.splitext(csv_file)[0] + '_visualized.png'\n",
    "    plt.savefig(output_file, dpi=300, bbox_inches='tight')\n",
    "    plt.close(fig)\n",
    "\n",
    "    print(f\"Visualization saved to '{output_file}'.\")\n"
   ]
  },
  {
   "cell_type": "code",
   "execution_count": 4,
   "id": "0f8c3880-6c7c-443e-a30f-9d59479d853d",
   "metadata": {},
   "outputs": [
    {
     "name": "stdout",
     "output_type": "stream",
     "text": [
      "Processing 'Graphing Data/inverter_data.csv'...\n",
      "Visualization saved to 'Graphing Data/inverter_data_visualized.png'.\n",
      "Processing 'Graphing Data/or_data.csv'...\n",
      "Visualization saved to 'Graphing Data/or_data_visualized.png'.\n",
      "Processing 'Graphing Data/xor_data.csv'...\n",
      "Visualization saved to 'Graphing Data/xor_data_visualized.png'.\n",
      "Processing 'Graphing Data/fadder_data.csv'...\n",
      "Visualization saved to 'Graphing Data/fadder_data_visualized.png'.\n",
      "Processing 'Graphing Data/and_data.csv'...\n",
      "Visualization saved to 'Graphing Data/and_data_visualized.png'.\n"
     ]
    }
   ],
   "source": [
    "def main():\n",
    "    csv_files = glob.glob('Graphing Data/*.csv')\n",
    "    if not csv_files:\n",
    "        print(\"No CSV files found in the current directory.\")\n",
    "    for csv_file in csv_files:\n",
    "        print(f\"Processing '{csv_file}'...\")\n",
    "        visualize_csv_signals(csv_file)\n",
    "\n",
    "\n",
    "if __name__ == '__main__':\n",
    "    main()\n"
   ]
  },
  {
   "cell_type": "code",
   "execution_count": null,
   "id": "12be3b63-0704-42fa-9fc6-1200ad1bab40",
   "metadata": {},
   "outputs": [],
   "source": []
  }
 ],
 "metadata": {
  "kernelspec": {
   "display_name": "Python 3 (ipykernel)",
   "language": "python",
   "name": "python3"
  },
  "language_info": {
   "codemirror_mode": {
    "name": "ipython",
    "version": 3
   },
   "file_extension": ".py",
   "mimetype": "text/x-python",
   "name": "python",
   "nbconvert_exporter": "python",
   "pygments_lexer": "ipython3",
   "version": "3.11.9"
  }
 },
 "nbformat": 4,
 "nbformat_minor": 5
}
