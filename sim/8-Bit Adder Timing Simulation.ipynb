{
 "cells": [
  {
   "cell_type": "code",
   "execution_count": 1,
   "id": "47a95e5a-db37-4784-bc97-d8a1236d35fd",
   "metadata": {},
   "outputs": [
    {
     "name": "stdout",
     "output_type": "stream",
     "text": [
      "['/s0 Y', '/s1 Y', '/s2 Y', '/s3 Y', '/s4 Y', '/s5 Y', '/s6 Y', '/s7 Y', '/cout Y']\n",
      "Input /a0 Y went high at time 2.09e-09 seconds.\n",
      "Input /a4 Y went high at time 2.09e-09 seconds.\n",
      "Input /b0 Y went high at time 2.09e-09 seconds.\n",
      "Input /b1 Y went high at time 2.09e-09 seconds.\n",
      "Input /b2 Y went high at time 2.09e-09 seconds.\n",
      "Input /b3 Y went high at time 2.09e-09 seconds.\n",
      "Input /b4 Y went high at time 2.09e-09 seconds.\n",
      "Input /b5 Y went high at time 2.09e-09 seconds.\n",
      "Input /b6 Y went high at time 2.09e-09 seconds.\n",
      "Input /b7 Y went high at time 2.09e-09 seconds.\n",
      "Output /s3 Y went high at time 2.18e-09 seconds.\n",
      "Output /s7 Y went high at time 2.18e-09 seconds.\n",
      "Output /s2 Y went high at time 2.19e-09 seconds.\n",
      "Output /s6 Y went high at time 2.19e-09 seconds.\n",
      "Output /cout Y went high at time 2.31e-09 seconds.\n",
      "Output /s4 Y went high at time 2.36e-09 seconds.\n",
      "The delay time of the 8-bit adder is: 2.57e-10 seconds.\n"
     ]
    }
   ],
   "source": [
    "import pandas as pd\n",
    "\n",
    "def calculate_delay(csv_file):\n",
    "    data = pd.read_csv(csv_file)\n",
    "\n",
    "    time_column = '/a0 X'  # Assuming all signals share the same time column\n",
    "    input_columns = [f'/a{i} Y' for i in range(8)] + [f'/b{i} Y' for i in range(8)]\n",
    "    output_columns = [f'/s{i} Y' for i in range(8)] + ['/cout Y']  \n",
    "\n",
    "    time_data = data[time_column].values\n",
    "    input_data = data[input_columns].values\n",
    "    output_data = data[output_columns].values\n",
    "    print(output_columns)\n",
    "\n",
    "    threshold = 0.90\n",
    "\n",
    "    last_input_switch_time = None\n",
    "    for i in range(len(time_data)):\n",
    "        if any(value > threshold for value in input_data[i]):  # Any input switches high\n",
    "            last_input_switch_time = time_data[i]\n",
    "\n",
    "    if last_input_switch_time is None:\n",
    "        raise ValueError(\"No input signal crosses the threshold in the data.\")\n",
    "\n",
    "    last_output_switch_time = None\n",
    "    for j in range(len(time_data)):\n",
    "        if any(value > threshold for value in output_data[j]):  # Any output switches high\n",
    "            last_output_switch_time = time_data[j]\n",
    "\n",
    "    if last_output_switch_time is None:\n",
    "        raise ValueError(\"No output signal crosses the threshold in the data.\")\n",
    "\n",
    "    delay_time = last_output_switch_time - last_input_switch_time\n",
    "\n",
    "    signal_times = {signal: None for signal in input_columns + output_columns}\n",
    "\n",
    "    for i, time in enumerate(time_data):\n",
    "        for signal_index, signal in enumerate(input_columns):\n",
    "            if signal_times[signal] is None and input_data[i, signal_index] > threshold:\n",
    "                signal_times[signal] = time\n",
    "                print(f\"Input {signal} went high at time {time:.2e} seconds.\")\n",
    "\n",
    "        for signal_index, signal in enumerate(output_columns):\n",
    "            if signal_times[signal] is None and output_data[i, signal_index] > threshold:\n",
    "                signal_times[signal] = time\n",
    "                print(f\"Output {signal} went high at time {time:.2e} seconds.\")\n",
    "\n",
    "    return delay_time\n",
    "\n",
    "try:\n",
    "    csv_file = \"Simulations Data/timing.csv\"  # Replace with your CSV file path\n",
    "    delay = calculate_delay(csv_file)\n",
    "    print(f\"The delay time of the 8-bit adder is: {delay:.2e} seconds.\")\n",
    "except FileNotFoundError:\n",
    "    print(f\"File '{csv_file}' not found. Please ensure it is in the correct directory.\")\n",
    "except ValueError as e:\n",
    "    print(f\"Error in calculation: {e}\")\n"
   ]
  },
  {
   "cell_type": "code",
   "execution_count": null,
   "id": "937b21a0-8488-4145-ae16-065f9e34c0b9",
   "metadata": {},
   "outputs": [],
   "source": []
  }
 ],
 "metadata": {
  "kernelspec": {
   "display_name": "Python 3 (ipykernel)",
   "language": "python",
   "name": "python3"
  },
  "language_info": {
   "codemirror_mode": {
    "name": "ipython",
    "version": 3
   },
   "file_extension": ".py",
   "mimetype": "text/x-python",
   "name": "python",
   "nbconvert_exporter": "python",
   "pygments_lexer": "ipython3",
   "version": "3.11.9"
  }
 },
 "nbformat": 4,
 "nbformat_minor": 5
}
